{
 "cells": [
  {
   "cell_type": "code",
   "execution_count": 2,
   "metadata": {},
   "outputs": [],
   "source": [
    "%load_ext autoreload\n",
    "%autoreload 2\n",
    "%matplotlib inline\n",
    "%config InlineBackend.figure_format = 'retina'\n",
    "\n",
    "import numpy as np\n",
    "import matplotlib.pyplot as plt\n",
    "import pandas as pd\n"
   ]
  },
  {
   "cell_type": "code",
   "execution_count": 3,
   "metadata": {
    "scrolled": true
   },
   "outputs": [],
   "source": [
    "import requests\n",
    "\n",
    "# Data downloaded as XLS from https://results.enr.clarityelections.com/PA/Allegheny/106267/web.264614/#/detail/0004\n",
    "# worksheet 1 saved to csv to pa_allegheny_county.csv\n",
    "\n",
    "data = pd.read_csv('data/pa_allegheny_county.csv', skiprows=1)"
   ]
  },
  {
   "cell_type": "code",
   "execution_count": 4,
   "metadata": {
    "scrolled": true
   },
   "outputs": [
    {
     "data": {
      "text/html": [
       "<div>\n",
       "<style scoped>\n",
       "    .dataframe tbody tr th:only-of-type {\n",
       "        vertical-align: middle;\n",
       "    }\n",
       "\n",
       "    .dataframe tbody tr th {\n",
       "        vertical-align: top;\n",
       "    }\n",
       "\n",
       "    .dataframe thead th {\n",
       "        text-align: right;\n",
       "    }\n",
       "</style>\n",
       "<table border=\"1\" class=\"dataframe\">\n",
       "  <thead>\n",
       "    <tr style=\"text-align: right;\">\n",
       "      <th></th>\n",
       "      <th>Unnamed: 0</th>\n",
       "      <th>Unnamed: 1</th>\n",
       "      <th>DEM Joseph R. Biden/Kamala D. Harris</th>\n",
       "      <th>Unnamed: 3</th>\n",
       "      <th>Unnamed: 4</th>\n",
       "      <th>REP Donald J. Trump/Mike R. Pence</th>\n",
       "      <th>Unnamed: 6</th>\n",
       "      <th>Unnamed: 7</th>\n",
       "      <th>LIB Jo Jorgensen/Jeremy Spike Cohen</th>\n",
       "      <th>Unnamed: 9</th>\n",
       "      <th>Unnamed: 10</th>\n",
       "      <th>Write-in</th>\n",
       "      <th>Unnamed: 12</th>\n",
       "      <th>Unnamed: 13</th>\n",
       "      <th>Unnamed: 14</th>\n",
       "    </tr>\n",
       "  </thead>\n",
       "  <tbody>\n",
       "    <tr>\n",
       "      <th>0</th>\n",
       "      <td>County</td>\n",
       "      <td>Registered Voters</td>\n",
       "      <td>Election Day</td>\n",
       "      <td>Absentee</td>\n",
       "      <td>Total Votes</td>\n",
       "      <td>Election Day</td>\n",
       "      <td>Absentee</td>\n",
       "      <td>Total Votes</td>\n",
       "      <td>Election Day</td>\n",
       "      <td>Absentee</td>\n",
       "      <td>Total Votes</td>\n",
       "      <td>Election Day</td>\n",
       "      <td>Absentee</td>\n",
       "      <td>Total Votes</td>\n",
       "      <td>Total</td>\n",
       "    </tr>\n",
       "    <tr>\n",
       "      <th>1</th>\n",
       "      <td>ALEPPO</td>\n",
       "      <td>1388</td>\n",
       "      <td>166</td>\n",
       "      <td>351</td>\n",
       "      <td>517</td>\n",
       "      <td>347</td>\n",
       "      <td>152</td>\n",
       "      <td>499</td>\n",
       "      <td>6</td>\n",
       "      <td>3</td>\n",
       "      <td>9</td>\n",
       "      <td>2</td>\n",
       "      <td>2</td>\n",
       "      <td>4</td>\n",
       "      <td>1029</td>\n",
       "    </tr>\n",
       "    <tr>\n",
       "      <th>2</th>\n",
       "      <td>ASPINWALL DIST 1</td>\n",
       "      <td>861</td>\n",
       "      <td>209</td>\n",
       "      <td>253</td>\n",
       "      <td>462</td>\n",
       "      <td>184</td>\n",
       "      <td>27</td>\n",
       "      <td>211</td>\n",
       "      <td>2</td>\n",
       "      <td>4</td>\n",
       "      <td>6</td>\n",
       "      <td>1</td>\n",
       "      <td>3</td>\n",
       "      <td>4</td>\n",
       "      <td>683</td>\n",
       "    </tr>\n",
       "  </tbody>\n",
       "</table>\n",
       "</div>"
      ],
      "text/plain": [
       "         Unnamed: 0         Unnamed: 1 DEM Joseph R. Biden/Kamala D. Harris  \\\n",
       "0            County  Registered Voters                         Election Day   \n",
       "1            ALEPPO               1388                                  166   \n",
       "2  ASPINWALL DIST 1                861                                  209   \n",
       "\n",
       "  Unnamed: 3   Unnamed: 4 REP Donald J. Trump/Mike R. Pence Unnamed: 6  \\\n",
       "0   Absentee  Total Votes                      Election Day   Absentee   \n",
       "1        351          517                               347        152   \n",
       "2        253          462                               184         27   \n",
       "\n",
       "    Unnamed: 7 LIB Jo Jorgensen/Jeremy Spike Cohen Unnamed: 9  Unnamed: 10  \\\n",
       "0  Total Votes                        Election Day   Absentee  Total Votes   \n",
       "1          499                                   6          3            9   \n",
       "2          211                                   2          4            6   \n",
       "\n",
       "       Write-in Unnamed: 12  Unnamed: 13 Unnamed: 14  \n",
       "0  Election Day    Absentee  Total Votes       Total  \n",
       "1             2           2            4        1029  \n",
       "2             1           3            4         683  "
      ]
     },
     "execution_count": 4,
     "metadata": {},
     "output_type": "execute_result"
    }
   ],
   "source": [
    "data.head(3)"
   ]
  },
  {
   "cell_type": "code",
   "execution_count": 14,
   "metadata": {},
   "outputs": [],
   "source": [
    "data = pd.read_csv('data/pa_allegheny_county.csv', skiprows=2)\n",
    "data = data[data.columns[[0, 4, 7, 10]]]\n",
    "\n",
    "# first column is mislabled (not County)\n",
    "data.columns = ['Precinct', 'Joe Biden','Donald Trump', 'Jo Jorgensen']"
   ]
  },
  {
   "cell_type": "code",
   "execution_count": 15,
   "metadata": {},
   "outputs": [
    {
     "data": {
      "text/html": [
       "<div>\n",
       "<style scoped>\n",
       "    .dataframe tbody tr th:only-of-type {\n",
       "        vertical-align: middle;\n",
       "    }\n",
       "\n",
       "    .dataframe tbody tr th {\n",
       "        vertical-align: top;\n",
       "    }\n",
       "\n",
       "    .dataframe thead th {\n",
       "        text-align: right;\n",
       "    }\n",
       "</style>\n",
       "<table border=\"1\" class=\"dataframe\">\n",
       "  <thead>\n",
       "    <tr style=\"text-align: right;\">\n",
       "      <th></th>\n",
       "      <th>Joe Biden</th>\n",
       "      <th>Donald Trump</th>\n",
       "      <th>Jo Jorgensen</th>\n",
       "    </tr>\n",
       "    <tr>\n",
       "      <th>Precinct</th>\n",
       "      <th></th>\n",
       "      <th></th>\n",
       "      <th></th>\n",
       "    </tr>\n",
       "  </thead>\n",
       "  <tbody>\n",
       "    <tr>\n",
       "      <th>ALEPPO</th>\n",
       "      <td>517</td>\n",
       "      <td>499</td>\n",
       "      <td>9</td>\n",
       "    </tr>\n",
       "    <tr>\n",
       "      <th>ASPINWALL DIST 1</th>\n",
       "      <td>462</td>\n",
       "      <td>211</td>\n",
       "      <td>6</td>\n",
       "    </tr>\n",
       "    <tr>\n",
       "      <th>ASPINWALL DIST 2</th>\n",
       "      <td>313</td>\n",
       "      <td>126</td>\n",
       "      <td>3</td>\n",
       "    </tr>\n",
       "  </tbody>\n",
       "</table>\n",
       "</div>"
      ],
      "text/plain": [
       "                  Joe Biden  Donald Trump  Jo Jorgensen\n",
       "Precinct                                               \n",
       "ALEPPO                  517           499             9\n",
       "ASPINWALL DIST 1        462           211             6\n",
       "ASPINWALL DIST 2        313           126             3"
      ]
     },
     "execution_count": 15,
     "metadata": {},
     "output_type": "execute_result"
    }
   ],
   "source": [
    "data = data.set_index('Precinct')\n",
    "data.head(3)"
   ]
  },
  {
   "cell_type": "code",
   "execution_count": null,
   "metadata": {},
   "outputs": [],
   "source": []
  },
  {
   "cell_type": "code",
   "execution_count": 16,
   "metadata": {},
   "outputs": [
    {
     "data": {
      "text/html": [
       "<div>\n",
       "<style scoped>\n",
       "    .dataframe tbody tr th:only-of-type {\n",
       "        vertical-align: middle;\n",
       "    }\n",
       "\n",
       "    .dataframe tbody tr th {\n",
       "        vertical-align: top;\n",
       "    }\n",
       "\n",
       "    .dataframe thead th {\n",
       "        text-align: right;\n",
       "    }\n",
       "</style>\n",
       "<table border=\"1\" class=\"dataframe\">\n",
       "  <thead>\n",
       "    <tr style=\"text-align: right;\">\n",
       "      <th></th>\n",
       "      <th>candidate</th>\n",
       "      <th>count</th>\n",
       "      <th>Precinct</th>\n",
       "    </tr>\n",
       "  </thead>\n",
       "  <tbody>\n",
       "    <tr>\n",
       "      <th>0</th>\n",
       "      <td>Joe Biden</td>\n",
       "      <td>517</td>\n",
       "      <td>ALEPPO</td>\n",
       "    </tr>\n",
       "    <tr>\n",
       "      <th>1</th>\n",
       "      <td>Joe Biden</td>\n",
       "      <td>462</td>\n",
       "      <td>ASPINWALL DIST 1</td>\n",
       "    </tr>\n",
       "    <tr>\n",
       "      <th>2</th>\n",
       "      <td>Joe Biden</td>\n",
       "      <td>313</td>\n",
       "      <td>ASPINWALL DIST 2</td>\n",
       "    </tr>\n",
       "  </tbody>\n",
       "</table>\n",
       "</div>"
      ],
      "text/plain": [
       "   candidate  count          Precinct\n",
       "0  Joe Biden    517            ALEPPO\n",
       "1  Joe Biden    462  ASPINWALL DIST 1\n",
       "2  Joe Biden    313  ASPINWALL DIST 2"
      ]
     },
     "execution_count": 16,
     "metadata": {},
     "output_type": "execute_result"
    }
   ],
   "source": [
    "unstacked_data = data.unstack().reset_index().rename(\n",
    "    columns={0: 'count', 'level_0': 'candidate'})\n",
    "unstacked_data = unstacked_data[['candidate', 'count', 'Precinct']]\n",
    "unstacked_data['count'] = unstacked_data['count'].astype(int)\n",
    "unstacked_data.head(3)"
   ]
  },
  {
   "cell_type": "code",
   "execution_count": 18,
   "metadata": {},
   "outputs": [
    {
     "data": {
      "text/plain": [
       "Text(0.5, 0.98, 'Allegheny County Precincts, N=1324')"
      ]
     },
     "execution_count": 18,
     "metadata": {},
     "output_type": "execute_result"
    },
    {
     "data": {
      "image/png": "[encoded data removed]",
      "text/plain": [
       "<Figure size 864x288 with 3 Axes>"
      ]
     },
     "metadata": {
      "image/png": {
       "height": 277,
       "width": 710
      },
      "needs_background": "light"
     },
     "output_type": "display_data"
    }
   ],
   "source": [
    "\n",
    "fig, axs = plt.subplots(1, 3, figsize=(12, 4))\n",
    "axs = np.array(axs).flatten()\n",
    "candidates = unstacked_data.candidate.unique()\n",
    "\n",
    "for i in range(len(candidates)):\n",
    "\n",
    "    ax = axs[i]\n",
    "    candidate = candidates[i]\n",
    "    cur_data = unstacked_data\n",
    "    cur_data = cur_data.groupby(['candidate', 'Precinct']).sum()\n",
    "    digits = cur_data.loc[candidate]['count'].astype(str).str[0].astype(int)\n",
    "    digits = digits[digits > 0]\n",
    "    \n",
    "    v = digits.value_counts()\n",
    "    ax.bar(v.index, v.values)\n",
    "    ax.set_xticks(range(1, 10))\n",
    "\n",
    "    ax.set_title(\"%s\" % (candidate))\n",
    "\n",
    "plt.suptitle(\"Allegheny County Precincts, N=%d\" % len(data))\n",
    "    "
   ]
  },
  {
   "cell_type": "code",
   "execution_count": null,
   "metadata": {},
   "outputs": [],
   "source": []
  },
  {
   "cell_type": "code",
   "execution_count": null,
   "metadata": {},
   "outputs": [],
   "source": []
  },
  {
   "cell_type": "code",
   "execution_count": null,
   "metadata": {
    "collapsed": true
   },
   "outputs": [],
   "source": []
  }
 ],
 "metadata": {
  "kernelspec": {
   "display_name": "Python 3",
   "language": "python",
   "name": "python3"
  },
  "language_info": {
   "codemirror_mode": {
    "name": "ipython",
    "version": 3
   },
   "file_extension": ".py",
   "mimetype": "text/x-python",
   "name": "python",
   "nbconvert_exporter": "python",
   "pygments_lexer": "ipython3",
   "version": "3.7.7"
  }
 },
 "nbformat": 4,
 "nbformat_minor": 2
}
