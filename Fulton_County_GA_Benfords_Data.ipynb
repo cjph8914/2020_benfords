{
 "cells": [
  {
   "cell_type": "code",
   "execution_count": 1,
   "metadata": {},
   "outputs": [],
   "source": [
    "%load_ext autoreload\n",
    "%autoreload 2\n",
    "%matplotlib inline\n",
    "%config InlineBackend.figure_format = 'retina'\n",
    "\n",
    "import numpy as np\n",
    "import matplotlib.pyplot as plt\n",
    "import pandas as pd\n"
   ]
  },
  {
   "cell_type": "code",
   "execution_count": 8,
   "metadata": {
    "scrolled": true
   },
   "outputs": [],
   "source": [
    "import requests\n",
    "\n",
    "# Data downloaded as XLS from https://results.enr.clarityelections.com/GA/Fulton/105430/web.264614/#/detail/1\n",
    "# worksheet 1 saved to csv to ga_fulton_county.csv\n",
    "\n",
    "data = pd.read_csv('ga_fulton_county.csv', skiprows=1)"
   ]
  },
  {
   "cell_type": "code",
   "execution_count": 10,
   "metadata": {
    "scrolled": true
   },
   "outputs": [
    {
     "data": {
      "text/html": [
       "<div>\n",
       "<style scoped>\n",
       "    .dataframe tbody tr th:only-of-type {\n",
       "        vertical-align: middle;\n",
       "    }\n",
       "\n",
       "    .dataframe tbody tr th {\n",
       "        vertical-align: top;\n",
       "    }\n",
       "\n",
       "    .dataframe thead th {\n",
       "        text-align: right;\n",
       "    }\n",
       "</style>\n",
       "<table border=\"1\" class=\"dataframe\">\n",
       "  <thead>\n",
       "    <tr style=\"text-align: right;\">\n",
       "      <th></th>\n",
       "      <th>Unnamed: 0</th>\n",
       "      <th>Unnamed: 1</th>\n",
       "      <th>Donald J. Trump (I) (Rep)</th>\n",
       "      <th>Unnamed: 3</th>\n",
       "      <th>Unnamed: 4</th>\n",
       "      <th>Unnamed: 5</th>\n",
       "      <th>Unnamed: 6</th>\n",
       "      <th>Joseph R. Biden (Dem)</th>\n",
       "      <th>Unnamed: 8</th>\n",
       "      <th>Unnamed: 9</th>\n",
       "      <th>Unnamed: 10</th>\n",
       "      <th>Unnamed: 11</th>\n",
       "      <th>Jo Jorgensen (Lib)</th>\n",
       "      <th>Unnamed: 13</th>\n",
       "      <th>Unnamed: 14</th>\n",
       "      <th>Unnamed: 15</th>\n",
       "      <th>Unnamed: 16</th>\n",
       "      <th>Unnamed: 17</th>\n",
       "    </tr>\n",
       "  </thead>\n",
       "  <tbody>\n",
       "    <tr>\n",
       "      <th>0</th>\n",
       "      <td>County</td>\n",
       "      <td>Registered Voters</td>\n",
       "      <td>Election Day Votes</td>\n",
       "      <td>Advanced Voting Votes</td>\n",
       "      <td>Absentee by Mail Votes</td>\n",
       "      <td>Provisional Votes</td>\n",
       "      <td>Total Votes</td>\n",
       "      <td>Election Day Votes</td>\n",
       "      <td>Advanced Voting Votes</td>\n",
       "      <td>Absentee by Mail Votes</td>\n",
       "      <td>Provisional Votes</td>\n",
       "      <td>Total Votes</td>\n",
       "      <td>Election Day Votes</td>\n",
       "      <td>Advanced Voting Votes</td>\n",
       "      <td>Absentee by Mail Votes</td>\n",
       "      <td>Provisional Votes</td>\n",
       "      <td>Total Votes</td>\n",
       "      <td>Total</td>\n",
       "    </tr>\n",
       "    <tr>\n",
       "      <th>1</th>\n",
       "      <td>01A</td>\n",
       "      <td>0</td>\n",
       "      <td>41</td>\n",
       "      <td>143</td>\n",
       "      <td>50</td>\n",
       "      <td>0</td>\n",
       "      <td>234</td>\n",
       "      <td>160</td>\n",
       "      <td>1638</td>\n",
       "      <td>703</td>\n",
       "      <td>0</td>\n",
       "      <td>2501</td>\n",
       "      <td>3</td>\n",
       "      <td>10</td>\n",
       "      <td>9</td>\n",
       "      <td>0</td>\n",
       "      <td>22</td>\n",
       "      <td>2757</td>\n",
       "    </tr>\n",
       "    <tr>\n",
       "      <th>2</th>\n",
       "      <td>01B</td>\n",
       "      <td>0</td>\n",
       "      <td>79</td>\n",
       "      <td>158</td>\n",
       "      <td>57</td>\n",
       "      <td>0</td>\n",
       "      <td>294</td>\n",
       "      <td>242</td>\n",
       "      <td>1824</td>\n",
       "      <td>878</td>\n",
       "      <td>0</td>\n",
       "      <td>2944</td>\n",
       "      <td>11</td>\n",
       "      <td>16</td>\n",
       "      <td>15</td>\n",
       "      <td>0</td>\n",
       "      <td>42</td>\n",
       "      <td>3280</td>\n",
       "    </tr>\n",
       "  </tbody>\n",
       "</table>\n",
       "</div>"
      ],
      "text/plain": [
       "  Unnamed: 0         Unnamed: 1 Donald J. Trump (I) (Rep)  \\\n",
       "0     County  Registered Voters        Election Day Votes   \n",
       "1        01A                  0                        41   \n",
       "2        01B                  0                        79   \n",
       "\n",
       "              Unnamed: 3              Unnamed: 4         Unnamed: 5  \\\n",
       "0  Advanced Voting Votes  Absentee by Mail Votes  Provisional Votes   \n",
       "1                    143                      50                  0   \n",
       "2                    158                      57                  0   \n",
       "\n",
       "    Unnamed: 6 Joseph R. Biden (Dem)             Unnamed: 8  \\\n",
       "0  Total Votes    Election Day Votes  Advanced Voting Votes   \n",
       "1          234                   160                   1638   \n",
       "2          294                   242                   1824   \n",
       "\n",
       "               Unnamed: 9        Unnamed: 10  Unnamed: 11  Jo Jorgensen (Lib)  \\\n",
       "0  Absentee by Mail Votes  Provisional Votes  Total Votes  Election Day Votes   \n",
       "1                     703                  0         2501                   3   \n",
       "2                     878                  0         2944                  11   \n",
       "\n",
       "             Unnamed: 13             Unnamed: 14        Unnamed: 15  \\\n",
       "0  Advanced Voting Votes  Absentee by Mail Votes  Provisional Votes   \n",
       "1                     10                       9                  0   \n",
       "2                     16                      15                  0   \n",
       "\n",
       "   Unnamed: 16 Unnamed: 17  \n",
       "0  Total Votes       Total  \n",
       "1           22        2757  \n",
       "2           42        3280  "
      ]
     },
     "execution_count": 10,
     "metadata": {},
     "output_type": "execute_result"
    }
   ],
   "source": [
    "data.head(3)"
   ]
  },
  {
   "cell_type": "code",
   "execution_count": 14,
   "metadata": {},
   "outputs": [],
   "source": [
    "# data = pd.read_csv('data/ga_fulton_county.csv', skiprows=2)\n",
    "data = data[data.columns[[0, 6, 11, 16]]]\n",
    "\n",
    "# first column is mislabled (not County)\n",
    "data.columns = ['Precinct', 'Donald Trump', 'Joe Biden', 'Jo Jorgensen']"
   ]
  },
  {
   "cell_type": "code",
   "execution_count": 18,
   "metadata": {},
   "outputs": [
    {
     "data": {
      "text/html": [
       "<div>\n",
       "<style scoped>\n",
       "    .dataframe tbody tr th:only-of-type {\n",
       "        vertical-align: middle;\n",
       "    }\n",
       "\n",
       "    .dataframe tbody tr th {\n",
       "        vertical-align: top;\n",
       "    }\n",
       "\n",
       "    .dataframe thead th {\n",
       "        text-align: right;\n",
       "    }\n",
       "</style>\n",
       "<table border=\"1\" class=\"dataframe\">\n",
       "  <thead>\n",
       "    <tr style=\"text-align: right;\">\n",
       "      <th></th>\n",
       "      <th>Donald Trump</th>\n",
       "      <th>Joe Biden</th>\n",
       "      <th>Jo Jorgensen</th>\n",
       "    </tr>\n",
       "    <tr>\n",
       "      <th>Precinct</th>\n",
       "      <th></th>\n",
       "      <th></th>\n",
       "      <th></th>\n",
       "    </tr>\n",
       "  </thead>\n",
       "  <tbody>\n",
       "    <tr>\n",
       "      <th>01A</th>\n",
       "      <td>234</td>\n",
       "      <td>2501</td>\n",
       "      <td>22</td>\n",
       "    </tr>\n",
       "    <tr>\n",
       "      <th>01B</th>\n",
       "      <td>294</td>\n",
       "      <td>2944</td>\n",
       "      <td>42</td>\n",
       "    </tr>\n",
       "    <tr>\n",
       "      <th>01C</th>\n",
       "      <td>49</td>\n",
       "      <td>710</td>\n",
       "      <td>13</td>\n",
       "    </tr>\n",
       "  </tbody>\n",
       "</table>\n",
       "</div>"
      ],
      "text/plain": [
       "          Donald Trump  Joe Biden  Jo Jorgensen\n",
       "Precinct                                       \n",
       "01A                234       2501            22\n",
       "01B                294       2944            42\n",
       "01C                 49        710            13"
      ]
     },
     "execution_count": 18,
     "metadata": {},
     "output_type": "execute_result"
    }
   ],
   "source": [
    "data = data.set_index('Precinct')\n",
    "data.head(3)"
   ]
  },
  {
   "cell_type": "code",
   "execution_count": null,
   "metadata": {},
   "outputs": [],
   "source": []
  },
  {
   "cell_type": "code",
   "execution_count": 24,
   "metadata": {},
   "outputs": [
    {
     "data": {
      "text/html": [
       "<div>\n",
       "<style scoped>\n",
       "    .dataframe tbody tr th:only-of-type {\n",
       "        vertical-align: middle;\n",
       "    }\n",
       "\n",
       "    .dataframe tbody tr th {\n",
       "        vertical-align: top;\n",
       "    }\n",
       "\n",
       "    .dataframe thead th {\n",
       "        text-align: right;\n",
       "    }\n",
       "</style>\n",
       "<table border=\"1\" class=\"dataframe\">\n",
       "  <thead>\n",
       "    <tr style=\"text-align: right;\">\n",
       "      <th></th>\n",
       "      <th>candidate</th>\n",
       "      <th>count</th>\n",
       "      <th>Precinct</th>\n",
       "    </tr>\n",
       "  </thead>\n",
       "  <tbody>\n",
       "    <tr>\n",
       "      <th>0</th>\n",
       "      <td>Donald Trump</td>\n",
       "      <td>234</td>\n",
       "      <td>01A</td>\n",
       "    </tr>\n",
       "    <tr>\n",
       "      <th>1</th>\n",
       "      <td>Donald Trump</td>\n",
       "      <td>294</td>\n",
       "      <td>01B</td>\n",
       "    </tr>\n",
       "    <tr>\n",
       "      <th>2</th>\n",
       "      <td>Donald Trump</td>\n",
       "      <td>49</td>\n",
       "      <td>01C</td>\n",
       "    </tr>\n",
       "  </tbody>\n",
       "</table>\n",
       "</div>"
      ],
      "text/plain": [
       "      candidate  count Precinct\n",
       "0  Donald Trump    234      01A\n",
       "1  Donald Trump    294      01B\n",
       "2  Donald Trump     49      01C"
      ]
     },
     "execution_count": 24,
     "metadata": {},
     "output_type": "execute_result"
    }
   ],
   "source": [
    "unstacked_data = data.unstack().reset_index().rename(\n",
    "    columns={0: 'count', 'level_0': 'candidate'})\n",
    "unstacked_data = unstacked_data[['candidate', 'count', 'Precinct']]\n",
    "unstacked_data['count'] = unstacked_data['count'].astype(int)\n",
    "unstacked_data.head(3)"
   ]
  },
  {
   "cell_type": "code",
   "execution_count": 29,
   "metadata": {},
   "outputs": [
    {
     "data": {
      "text/plain": [
       "Text(0.5, 0.98, 'Fulton County Precincts, N=385')"
      ]
     },
     "execution_count": 29,
     "metadata": {},
     "output_type": "execute_result"
    },
    {
     "data": {
      "image/png": "[encoded data removed]",
      "text/plain": [
       "<Figure size 864x288 with 3 Axes>"
      ]
     },
     "metadata": {
      "image/png": {
       "height": 277,
       "width": 710
      },
      "needs_background": "light"
     },
     "output_type": "display_data"
    }
   ],
   "source": [
    "\n",
    "fig, axs = plt.subplots(1, 3, figsize=(12, 4))\n",
    "axs = np.array(axs).flatten()\n",
    "candidates = unstacked_data.candidate.unique()\n",
    "\n",
    "for i in range(len(candidates)):\n",
    "\n",
    "    ax = axs[i]\n",
    "    candidate = candidates[i]\n",
    "    cur_data = unstacked_data\n",
    "    cur_data = cur_data.groupby(['candidate', 'Precinct']).sum()\n",
    "    digits = cur_data.loc[candidate]['count'].astype(str).str[0].astype(int)\n",
    "    digits = digits[digits > 0]\n",
    "    \n",
    "    v = digits.value_counts()\n",
    "    ax.bar(v.index, v.values)\n",
    "    ax.set_xticks(range(1, 10))\n",
    "\n",
    "    ax.set_title(\"%s\" % (candidate))\n",
    "\n",
    "plt.suptitle(\"Fulton County Precincts, N=%d\" % len(data))\n",
    "    "
   ]
  },
  {
   "cell_type": "code",
   "execution_count": null,
   "metadata": {},
   "outputs": [],
   "source": []
  },
  {
   "cell_type": "code",
   "execution_count": null,
   "metadata": {},
   "outputs": [],
   "source": []
  },
  {
   "cell_type": "code",
   "execution_count": null,
   "metadata": {
    "collapsed": true
   },
   "outputs": [],
   "source": []
  }
 ],
 "metadata": {
  "kernelspec": {
   "display_name": "Python 3",
   "language": "python",
   "name": "python3"
  },
  "language_info": {
   "codemirror_mode": {
    "name": "ipython",
    "version": 3
   },
   "file_extension": ".py",
   "mimetype": "text/x-python",
   "name": "python",
   "nbconvert_exporter": "python",
   "pygments_lexer": "ipython3",
   "version": "3.7.7"
  }
 },
 "nbformat": 4,
 "nbformat_minor": 2
}
